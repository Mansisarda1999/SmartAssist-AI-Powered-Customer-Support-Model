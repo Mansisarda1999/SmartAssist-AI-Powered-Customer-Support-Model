{
  "nbformat": 4,
  "nbformat_minor": 0,
  "metadata": {
    "colab": {
      "provenance": [],
      "authorship_tag": "ABX9TyMYfawiwsKJIEd1IIXW5P3D",
      "include_colab_link": true
    },
    "kernelspec": {
      "name": "python3",
      "display_name": "Python 3"
    },
    "language_info": {
      "name": "python"
    }
  },
  "cells": [
    {
      "cell_type": "markdown",
      "metadata": {
        "id": "view-in-github",
        "colab_type": "text"
      },
      "source": [
        "<a href=\"https://colab.research.google.com/github/Mansisarda1999/SmartAssist-AI-Powered-Customer-Support-Model/blob/main/SmartAssist_AI_Powered_Customer_Support_Model.ipynb\" target=\"_parent\"><img src=\"https://colab.research.google.com/assets/colab-badge.svg\" alt=\"Open In Colab\"/></a>"
      ]
    },
    {
      "cell_type": "code",
      "source": [
        "import pandas as pd\n",
        "import torch"
      ],
      "metadata": {
        "id": "rNqpNlf4UXkJ"
      },
      "execution_count": null,
      "outputs": []
    },
    {
      "cell_type": "code",
      "execution_count": null,
      "metadata": {
        "id": "smxpo_VQSLP0"
      },
      "outputs": [],
      "source": [
        "# Load the car reviews dataset\n",
        "file_path = \"/content/car_reviews.csv\"\n",
        "df = pd.read_csv(file_path, delimiter=\";\")\n",
        "\n",
        "# Put the car reviews and their associated sentiment labels in two lists\n",
        "reviews = df['Review'].tolist()\n",
        "real_labels = df['Class'].tolist()\n",
        "\n",
        "\n",
        "# Instruction 1: sentiment classification\n",
        "\n",
        "# Load a sentiment analysis LLM into a pipeline\n",
        "from transformers import pipeline\n",
        "classifier = pipeline('sentiment-analysis', model='distilbert-base-uncased-finetuned-sst-2-english')\n",
        "\n",
        "# Perform inference on the car reviews and display prediction results\n",
        "predicted_labels = classifier(reviews)\n",
        "for review, prediction, label in zip(reviews, predicted_labels, real_labels):\n",
        "    print(f\"Review: {review}\\nActual Sentiment: {label}\\nPredicted Sentiment: {prediction['label']} (Confidence: {prediction['score']:.4f})\\n\")\n",
        "\n",
        "# Load accuracy and F1 score metrics\n",
        "import evaluate\n",
        "accuracy = evaluate.load(\"accuracy\")\n",
        "f1 = evaluate.load(\"f1\")\n",
        "\n",
        "# Map categorical sentiment labels into integer labels\n",
        "references = [1 if label == \"POSITIVE\" else 0 for label in real_labels]\n",
        "predictions = [1 if label['label'] == \"POSITIVE\" else 0 for label in predicted_labels]\n",
        "\n",
        "# Calculate accuracy and F1 score\n",
        "accuracy_result_dict = accuracy.compute(references=references, predictions=predictions)\n",
        "accuracy_result = accuracy_result_dict['accuracy']\n",
        "f1_result_dict = f1.compute(references=references, predictions=predictions)\n",
        "f1_result = f1_result_dict['f1']\n",
        "print(f\"Accuracy: {accuracy_result}\")\n",
        "print(f\"F1 result: {f1_result}\")"
      ]
    },
    {
      "cell_type": "code",
      "source": [
        "# Instruction 2: Translation\n",
        "\n",
        "# Load translation LLM into a pipeline and translate car review\n",
        "first_review = reviews[0]\n",
        "translator = pipeline(\"translation\", model=\"Helsinki-NLP/opus-mt-en-es\")\n",
        "translated_review = translator(first_review, max_length=27)[0]['translation_text']\n",
        "print(f\"Model translation:\\n{translated_review}\")\n",
        "\n",
        "# Load reference translations from file\n",
        "with open(\"/content/reference_translations.txt\", 'r') as file:\n",
        "    lines = file.readlines()\n",
        "references = [line.strip() for line in lines]\n",
        "print(f\"Spanish translation references:\\n{references}\")\n",
        "\n",
        "# Load and calculate BLEU score metric\n",
        "bleu = evaluate.load(\"bleu\")\n",
        "bleu_score = bleu.compute(predictions=[translated_review], references=[references])\n",
        "print(bleu_score['bleu'])\n",
        "\n",
        "\n",
        "# Instruction 3: extractive QA\n",
        "\n",
        "# Import auto classes (optional: can be solved via pipelines too)\n",
        "from transformers import AutoTokenizer\n",
        "from transformers import AutoModelForQuestionAnswering\n",
        "\n",
        "# Instantiate model and tokenizer\n",
        "model_ckp = \"deepset/minilm-uncased-squad2\"\n",
        "tokenizer = AutoTokenizer.from_pretrained(model_ckp)\n",
        "model = AutoModelForQuestionAnswering.from_pretrained(model_ckp)\n",
        "\n",
        "# Define context and question, and tokenize them\n",
        "context = reviews[1]\n",
        "print(f\"Context:\\n{context}\")\n",
        "question = \"What did he like about the brand?\"\n",
        "inputs = tokenizer(question, context, return_tensors=\"pt\")\n",
        "\n",
        "# Perform inference and extract answer from raw outputs\n",
        "with torch.no_grad():\n",
        "  outputs = model(**inputs)\n",
        "start_idx = torch.argmax(outputs.start_logits)\n",
        "end_idx = torch.argmax(outputs.end_logits) + 1\n",
        "answer_span = inputs[\"input_ids\"][0][start_idx:end_idx]\n",
        "\n",
        "# Decode and show answer\n",
        "answer = tokenizer.decode(answer_span)\n",
        "print(\"Answer: \", answer)"
      ],
      "metadata": {
        "id": "xGRS8BkXUeGG"
      },
      "execution_count": null,
      "outputs": []
    },
    {
      "cell_type": "code",
      "source": [
        "\n",
        "# Instruction 4\n",
        "\n",
        "# Get original text to summarize upon car review\n",
        "text_to_summarize = reviews[-1]\n",
        "print(f\"Original text:\\n{text_to_summarize}\")\n",
        "\n",
        "# Load summarization pipeline and perform inference\n",
        "model_name = \"cnicu/t5-small-booksum\"\n",
        "summarizer = pipeline(\"summarization\", model=model_name)\n",
        "outputs = summarizer(text_to_summarize, max_length=53)\n",
        "summarized_text = outputs[0]['summary_text']\n",
        "print(f\"Summarized text:\\n{summarized_text}\")\n"
      ],
      "metadata": {
        "id": "T3bl65P4UgLC"
      },
      "execution_count": null,
      "outputs": []
    }
  ]
}